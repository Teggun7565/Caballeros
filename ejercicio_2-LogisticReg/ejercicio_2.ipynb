{
 "cells": [
  {
   "attachments": {},
   "cell_type": "markdown",
   "metadata": {},
   "source": [
    "## Descenso de gradiente para regresión lineal\n",
    "\n",
    "En el ejercicio anterior aprendiste regresión lineal y encontraste una solución analítica a través de algebra lineal, ahora resolveremos el mismo problema llegando a la solución de manera iterativa. \n",
    "\n",
    "En la práctica, descenso de gradiente se utiliza en problemas en los que obtener una solución analítica no es posible como regresión logística o redes neuronales."
   ]
  },
  {
   "cell_type": "code",
   "execution_count": 14,
   "metadata": {},
   "outputs": [
    {
     "name": "stdout",
     "output_type": "stream",
     "text": [
      "(200, 2) (100, 2)\n"
     ]
    },
    {
     "data": {
      "text/plain": [
       "<matplotlib.collections.PathCollection at 0x13cdd8e7250>"
      ]
     },
     "execution_count": 14,
     "metadata": {},
     "output_type": "execute_result"
    },
    {
     "data": {
      "image/png": "[encoded data removed]",
      "text/plain": [
       "<Figure size 640x480 with 1 Axes>"
      ]
     },
     "metadata": {},
     "output_type": "display_data"
    }
   ],
   "source": [
    "%matplotlib inline\n",
    "import numpy as np\n",
    "import matplotlib.pyplot as plt\n",
    "\n",
    "# Nuevamente generamos los datos aleatorios con una desviación estandar conocida\n",
    "# Alrededor de una funcion lineal conocida y = 1.2x + 0.7\n",
    "n_samples = 300\n",
    "ruido_blanco_std = 2\n",
    "X = np.random.randn(n_samples, 1)\n",
    "for_bias = np.ones([n_samples, 1])\n",
    "X_augmented = np.concatenate([for_bias, X], axis=-1)\n",
    "eps = np.random.randn(n_samples, 1) * ruido_blanco_std\n",
    "ideal_w = [[5], [1.2]]\n",
    "target_y = X_augmented @ ideal_w + eps\n",
    "\n",
    "# Dividir en entrenamiento y validación\n",
    "n_val_dp = n_samples//3\n",
    "x_train = X_augmented[:-n_val_dp,:]\n",
    "y_train = target_y[:-n_val_dp]\n",
    "\n",
    "x_val = X_augmented[-n_val_dp:,:]\n",
    "y_val = target_y[-n_val_dp:]\n",
    "\n",
    "print(x_train.shape, x_val.shape)\n",
    "# Graficar set de entrenamiento\n",
    "plt.scatter(x_train[:,-1], y_train)"
   ]
  },
  {
   "attachments": {},
   "cell_type": "markdown",
   "metadata": {},
   "source": [
    "## Función de pérdida\n",
    "Ya que hemos cargado el dataset y sabemos como está compuesto, debemos calcular la función de pérdida\n",
    "\n",
    "$ MSE = J(w) = \\frac{1}{2n} \\sum_{i=1}^{n} (\\hat{Y}_i - Y_i)^2 $"
   ]
  },
  {
   "cell_type": "code",
   "execution_count": 17,
   "metadata": {},
   "outputs": [
    {
     "name": "stdout",
     "output_type": "stream",
     "text": [
      "El valor de pérdida es: 19.946528613735232\n"
     ]
    }
   ],
   "source": [
    "def mse_loss(y, y_pred):\n",
    "    \"\"\"\n",
    "        Regresa el error cuadrático promedio de todas las predicciones\n",
    "        y: shape=N Etiquetas\n",
    "        y_pred: predicciones del modelo\n",
    "    \"\"\"\n",
    "    # TODO: Calcula el resultado de la función de pérdida\n",
    "    # ====== Start of solution =====\n",
    "    return np.mean((y - y_pred)**2)\n",
    "    # ====== End of solution =====\n",
    "\n",
    "# Iniciamos con unos parametros w arbitrarios\n",
    "w = np.random.uniform(-10, 10, size=(2, 1))\n",
    "\n",
    "# TODO: Calcula las preddiciones para el conjunto de entrenamiento x_train\n",
    "y_pred = x_train @ w\n",
    "\n",
    "# TODO: Calcula la función de pérdida para las predicciones(y_pred) y los valores reales (y_train)\n",
    "# ====== Start of solution =====\n",
    "loss = mse_loss(y_train, y_pred)\n",
    "print('El valor de pérdida es:', loss)\n",
    "# ====== End of solution ====="
   ]
  },
  {
   "attachments": {},
   "cell_type": "markdown",
   "metadata": {},
   "source": [
    "Podemos visualizar como se ve la función de pérdida con diferentes pesos.\n",
    "Si elegimos los pesos que generan la menor pérdidda en el set habremos encontrado los parametros ideales para este problema."
   ]
  },
  {
   "cell_type": "code",
   "execution_count": null,
   "metadata": {},
   "outputs": [],
   "source": [
    "# Probaremos con 100x100 combinaciones de distintos parametros\n",
    "w0 = np.linspace(-10, 10, 100)\n",
    "w1 = np.linspace(-10, 10, 100)\n",
    "w0w0, w1w1 = np.meshgrid(w0, w1)\n",
    "w0_flat = w0w0.ravel()\n",
    "w1_flat = w1w1.ravel()\n",
    "W = np.stack([w0_flat, w1_flat], axis=0)\n",
    "\n",
    "\n",
    "# Calculamos la función de pérdida\n",
    "# TODO: calcula el costo de las predicciones (y_pred) contra etiquetas (y_train)\n",
    "# usando las 100x100 combindaciones de parametros (W)\n",
    "# ====== Start of solution =====\n",
    "y_pred = ...\n",
    "calc_cost = ...\n",
    "# ====== End of solution =====\n",
    "\n",
    "# Graficamos los parametros w con su respectivo costo en el eje de las x\n",
    "fig = plt.figure()\n",
    "ax = fig.add_subplot(projection='3d')\n",
    "ax.scatter(w0_flat, w1_flat, calc_cost)\n",
    "\n",
    "# TODO: Escribe a qué valor corresponde cada eje\n",
    "# ====== Start of solution =====\n",
    "ax.set_xlabel(...)\n",
    "ax.set_ylabel(...)\n",
    "ax.set_zlabel(...)\n",
    "# ====== End of solution =====\n",
    "plt.show()"
   ]
  },
  {
   "cell_type": "code",
   "execution_count": null,
   "metadata": {},
   "outputs": [],
   "source": [
    "# Podemos encontrar la combinación de pesos que minimizan la pérdida\n",
    "# Y de esta manera encontrar los pesos ideales\n",
    "best_idx = np.argmin(calc_cost)\n",
    "search_w0 = w0_flat[best_idx]\n",
    "search_w1 = w1_flat[best_idx]\n",
    "search_w = [[search_w0], [search_w1]] \n",
    "\n",
    "plt.scatter(X, target_y)\n",
    "# TODO: Grafica la línea de regresión generada por tu modelo search_w\n",
    "# Encima de las muestras dadas\n",
    "# ====== Start of solution =====\n",
    "pred_y = ...\n",
    "plt.plot(...)\n",
    "# ====== End of solution ====="
   ]
  },
  {
   "attachments": {},
   "cell_type": "markdown",
   "metadata": {},
   "source": [
    "En el código anterior evaluamos $100 \\times 100$ combinaciones de pesos posibles y encontramos los mejores pesos. En este caso solo tenemos 2 parametros que queremos estimar, por lo que encontrar la solución de esta manera es factible al tener que realizar alrededor de $100^2$ evaluaciones de la función. \n",
    "\n",
    "<b>TODO: Contesta las siguientes preguntas</b> \n",
    "- ¿Cuántas evaluaciones de la función de pérdida tendríamos que hacer si tuviéramos 4 parametros?\n",
    "- ¿Qué pasaría si tuviéramos 1 millon de parametros?\n",
    "\n",
    "Las redes neuronales tienen millones de parametros para hacer predicciones, por lo que encontrar la solución de esta manera no es factible. Se han encontrado formas más eficientes de encontrar la solución por ejemplo, a través de métodos iterativos. Uno de ellos es decenso de gradiente. Siguiendo la direccion contraria del gradiente de la pérdida con respecto a los pesos, podemos encontrar los parámetros que <b>minimizan</b> la función de pérdida utilizando menos evaluaciones."
   ]
  },
  {
   "attachments": {},
   "cell_type": "markdown",
   "metadata": {},
   "source": [
    "## Descenso de gradiente\n",
    "En esta sección, optimizarás la función de regresión lineal a través de descenso de gradiente.\n",
    "La predicción de nuestro modelo está dada con la siguiente funcion:\n",
    "\n",
    "$ \\hat{Y}_i = w_0 + w_1 * x$\n",
    "\n",
    "$\\hat{Y} = \\mathbf{X}\\mathbf{w}$\n",
    "\n",
    "<!-- El gradiente de MSE con respecto a $w_0$ se calcula de la siguiente manera\n",
    "\n",
    "$ \\frac{\\partial J(w)}{\\partial w_0} = \\frac{\\partial J(w)}{\\partial \\hat{Y}_i} * \\frac{\\partial \\hat{Y}_i}{\\partial w_0}= \\frac{1}{n} \\sum_{i=1}^{n} (\\hat{Y}_i - Y_i) $\n",
    "\n",
    "El gradiente de MSE con respecto a $w_1$ se calcula de la siguiente manera\n",
    "\n",
    "$ \\frac{\\partial J(w)}{\\partial w_1} = \\frac{\\partial J(w)}{\\partial \\hat{Y}_i} * \\frac{\\partial \\hat{Y}_i}{\\partial w_1} = \\frac{1}{n} \\sum_{i=1}^{n} (\\hat{Y}_i - Y_i) * x_i $ -->\n",
    "\n",
    "Donde:\n",
    "- $\\hat{Y}_i \\in  \\hat{Y}$\n",
    "- $\\mathbf{Y} \\in \\mathbb{R}^{N}$\n",
    "- $\\mathbf{X} \\in  \\mathbb{R}^{N \\times D}$ en notación aumentada\n",
    "- $\\mathbf{w} \\in \\mathbb{R}^{D}$ en notación aumentada\n",
    "\n",
    "Como vimos en clase, el gradiente la función de costo con respecto a los pesos está dado por:\n",
    "\n",
    " $\\frac{\\partial J(\\mathbf{w})}{\\partial \\mathbf{w}} = -\\frac{1}{N}X^T\\epsilon$\n",
    "\n",
    " donde $\\epsilon=\\mathbf{Y}-\\mathbf{X}\\mathbf{w}$\n",
    "\n",
    " TODO: Completa el código necesario para aplicar descenso de gradiente durante n_iteraciones. Para ello realiza los siguientes pasos:\n",
    "- Calcula el valor de las predicciones $\\mathbf{Y}$\n",
    "- Calcula el gradiente de la función a optimizar $\\frac{\\partial J(\\mathbf{w})}{\\partial \\mathbf{w}}$\n",
    "- Actualiza los pesos con el gradiente $\\mathbf{w}^{i+1} = \\mathbf{w}^{i} - \\alpha \\frac{\\partial J(\\mathbf{w})}{\\partial \\mathbf{w}}$\n",
    "- Repite hasta optener el valor óptimo de $\\mathbf{w}$\n",
    "\n",
    "Es tiempo de programarlo en código"
   ]
  },
  {
   "cell_type": "code",
   "execution_count": null,
   "metadata": {},
   "outputs": [],
   "source": [
    "def gradient_descent(X, y, lr, N_iterations, w_start=np.array([0,0])):\n",
    "    \"\"\"\n",
    "    Entradas:\n",
    "    X: arreglo con los datos en notación aumentada X\n",
    "    y: vector de etiquetas\n",
    "    lr: ritmo de aprendizaje\n",
    "    N_iterations: cantidad de iteraciones de optimización\n",
    "    w_start: pesos iniciales\n",
    "        \n",
    "    Regresa:  \n",
    "    w_opt: pesos óptimos\n",
    "    cost_history: arreglo con el valor de costo para cada iteración\n",
    "    \"\"\"\n",
    "    m = X.shape[0]\n",
    "    \n",
    "    # initialize the coefficients\n",
    "    w=w_start\n",
    "    \n",
    "    for i in range(N_iterations):\n",
    "        # ====== Start of solution =====\n",
    "        # TODO: Calcula la predicción \n",
    "        hypothesis = ...\n",
    "\n",
    "        # TODO: Calcula el error\n",
    "\n",
    "\n",
    "        # TODO: Calcula el gradiente del MSE loss\n",
    "\n",
    "\n",
    "        # TODO: Actualiza los pesos\n",
    "\n",
    "        \n",
    "        # ====== End of solution =====\n",
    "        # Calculamos la función de pérdida y guardamos el resultado\n",
    "        loss = mse_loss(y, hypothesis)\n",
    "\n",
    "    print(f\"Total de evaluaciones {i}, la pérdida final fue {loss}\")\n",
    "    w_opt=w\n",
    "    return w_opt"
   ]
  },
  {
   "cell_type": "code",
   "execution_count": null,
   "metadata": {},
   "outputs": [],
   "source": [
    "from sklearn import linear_model\n",
    "# Parámetros de descenso de gradiente\n",
    "N_iterations = [50,60,80]\n",
    "\n",
    "# Pesos iniciales y ritmo de aprendizaje\n",
    "lr = 0.1  # Utiliza valores cercanos e.g. 0.05, 0.2 .. etc\n",
    "w_start = np.array([-400,0])\n",
    "w_start = np.expand_dims(w_start,-1)\n",
    "\n",
    "# (2.) - (4.) -> Variación de cantidad de iteraciones\n",
    "plt.figure(figsize=(7,7))\n",
    "plt.scatter(x_val[:,-1], y_val)\n",
    "for n_it in N_iterations:\n",
    "    # Entrenamos el modelo en el set de entrenamiento\n",
    "    w_opt = gradient_descent(x_train, y_train, lr, n_it, w_start)\n",
    "\n",
    "    # Visualizamos la predicción en el set de validación\n",
    "    prediction = x_val @ w_opt\n",
    "    plt.plot(x_val[:,-1], prediction, label = str(n_it)+\" Iteraciones de GD\", linewidth=3)\n",
    "\n",
    "# Obtener la solución analítica\n",
    "analitic_sol=linear_model.LinearRegression()\n",
    "analitic_sol.fit(x_train, y_train)\n",
    "\n",
    "# Visualizar solución analitica\n",
    "plt.plot(x_val[:,-1], analitic_sol.predict(x_val),label = 'Solución analítica', linewidth=1, linestyle=\"dashed\", color=\"black\")\n",
    "# plt.ylim(bottom=-10)\n",
    "plt.legend()\n",
    "plt.show()"
   ]
  },
  {
   "attachments": {},
   "cell_type": "markdown",
   "metadata": {},
   "source": [
    "<b>TODO: Contesta las siguientes preguntas</b> \n",
    "- ¿Cuántas evaluaciones de la función de pérdida se evaluaron para encontrar la solución con un $lr=0.1$? ¿Cómo se compara este número a la solución por busqueda exhaustiva? \n",
    "- ¿Qué pasa si cambiamos la tasa de aprendizaje (lr) a un valor dos veces grande?\n",
    "- ¿Qué pasa si cambiamos la tase de aprendizaje a un valor dos veces más chico?\n",
    "- ¿Qué pasa si cambiamos la tasa de aprendizaje (lr) por un valor muy grande?"
   ]
  },
  {
   "attachments": {},
   "cell_type": "markdown",
   "metadata": {},
   "source": [
    "# Regresión logística\n",
    "En este ejercicio exploraremos el uso de Regresión logística. Primero programarás los elementos necesarios para optimizar la función por descenso de gradiente y después usaremos las librerias de scikit-learn para encontrar la solución. \n",
    "\n",
    "Regresión logística nos sirve para resolver problemas de <b>clasificación</b>, esto consiste en utilizar datos para estimar un valor discreto que será asignado a una categoría, en el siguiente código nos enfocaremos especificamente en clasificación \n",
    "binaria.\n",
    "\n",
    "Para entender mejor los conceptos utilizaremos el [\"Breast cancer wisconsin (diagnostic) dataset\"](https://scikit-learn.org/stable/modules/generated/sklearn.datasets.load_breast_cancer.html#sklearn.datasets.load_breast_cancer). Este dataset contiene distintos atributos para determinar si un tumor es maligno(0) o benigno(1). Antes de empezar analizaremos el dataset."
   ]
  },
  {
   "cell_type": "code",
   "execution_count": null,
   "metadata": {},
   "outputs": [],
   "source": [
    "from sklearn.datasets import load_breast_cancer\n",
    "from sklearn.model_selection import train_test_split\n",
    "\n",
    "import numpy as np\n",
    "\n",
    "dataset = load_breast_cancer()\n",
    "# Podemos visualizar los atributos del dataset y la dimensionalidad de los datos\n",
    "print(\"Nobres de las columnas:\", dataset.keys())\n",
    "print(\"Matriz de datos (X.shape -> NxD): \", dataset['data'].shape)\n",
    "print(\"Cantidad de datos(N): \", dataset['target'].shape)\n",
    "print(\"Clases: 0-> %s, 1-> %s\" %(dataset.target_names[0], dataset.target_names[1]))"
   ]
  },
  {
   "cell_type": "code",
   "execution_count": null,
   "metadata": {},
   "outputs": [],
   "source": [
    "# Podemos visualizar los nombres de los datos para decidir que atributos utilizar.\n",
    "# En este caso utilizaremos la textura y el perímetro del tumor para generar la predicción.\n",
    "print(dataset['feature_names'][[21, 22]])\n",
    "print(dataset['target_names']) \n",
    "\n",
    "# Haremos el split de los datos y a partir de ahora solo usaremos\n",
    "# el conjunto de entrenamiento para encontrar nuestro modelo\n",
    "data_train, data_test, target_train, target_test = train_test_split(\n",
    "    dataset['data'][:, [21, 22]], \n",
    "    dataset['target'], \n",
    "    test_size=0.25\n",
    ")\n",
    "\n",
    "# TODO: Imprime la cantidad de puntos que serán dedicados para entrenamiento y\n",
    "# para prueba\n",
    "# ====== Start of solution =====\n",
    "print(f\"Entrenamiento - {...} datapoints\")\n",
    "print(f\"Evaluación - {...} datapoints\")\n",
    "# ====== End of solution =====\n",
    "\n",
    "# Es bueno saber como es la distribución de los datos\n",
    "# Incluyendo cuantos ejemplos son benignos y malignos\n",
    "malignant_idcs = np.where(target_train == 0)\n",
    "benign_idcs = np.where(target_train == 1)\n",
    "\n",
    "# TODO: Imprime la cantidad de puntos que son malignos y benignos\n",
    "# ====== Start of solution =====\n",
    "\n",
    "# ====== End of solution ====="
   ]
  },
  {
   "attachments": {},
   "cell_type": "markdown",
   "metadata": {},
   "source": [
    "## Visualización de datos\n",
    "Antes de resolver cualquier problema es necesario entenderlo, para los problemas de aprendizaje máquina una de las herramientas mas importantes para comprender mejor a que nos enfrentamos es el visualizar los datos."
   ]
  },
  {
   "cell_type": "code",
   "execution_count": null,
   "metadata": {},
   "outputs": [],
   "source": [
    "import matplotlib.pyplot as plt\n",
    "\n",
    "fig, ax = plt.subplots(figsize=(6,4))\n",
    "\n",
    "# Pintaremos los que tienen etiqueta 0 y etiqueta 1 de distinto color\n",
    "# Muestra un máximo de dp_to_plot puntos para cada clase\n",
    "dp_to_plot = 100\n",
    "\n",
    "# Grafica los datos malignos\n",
    "malignant_entries = data_train[malignant_idcs]\n",
    "ax.scatter(\n",
    "    # TODO: Ingresa los datos a graficar\n",
    "    # ====== Start of solution =====\n",
    "    x=...,\n",
    "    y=...,\n",
    "    # ====== End of solution =====\n",
    "    s=100,\n",
    "    color=\"r\", \n",
    "    marker=\"x\",\n",
    "    label=\"maligno\"\n",
    ")\n",
    "\n",
    "# Grafica los datos benignos\n",
    "benign_entries = data_train[benign_idcs]\n",
    "ax.scatter(\n",
    "    # TODO: Ingresa los datos a graficar\n",
    "    # ====== Start of solution =====\n",
    "\n",
    "    # ====== End of solution =====\n",
    "    s=100,\n",
    "    color=\"b\", \n",
    "    edgecolor='black',\n",
    "    marker=\"o\",\n",
    "    label=\"benigno\"\n",
    ")\n",
    "plt.legend()\n",
    "plt.show()\n"
   ]
  },
  {
   "attachments": {},
   "cell_type": "markdown",
   "metadata": {},
   "source": [
    "## La función sigmoide\n",
    "Podemos aplicar un modelo de regresión logística para encontrar el límite de separación que nos permita clasificar nuevos tumores, a partir de los datos de entrenamiento.Recordamos la función logística vista en clase:\n",
    "\n",
    "$ h_w(z) = \\frac{1}{1 + e^{-z}}$\n",
    "\n",
    "En la siguiente celda, visualiza la función logística."
   ]
  },
  {
   "cell_type": "code",
   "execution_count": null,
   "metadata": {},
   "outputs": [],
   "source": [
    "def logistic(z):\n",
    "    # TODO: Calcula la hipótesis h(z)\n",
    "    # ====== Start of solution =====\n",
    "    h = ...\n",
    "    # ====== End of solution =====\n",
    "    return h\n",
    "\n",
    "x = np.linspace(-10, 10, 100)\n",
    "y = logistic(x)\n",
    "# TODO: Grafica la función logística\n",
    "# ====== Start of solution =====\n",
    "\n",
    "# ====== End of solution ====="
   ]
  },
  {
   "attachments": {},
   "cell_type": "markdown",
   "metadata": {},
   "source": [
    "Si queremos aprender un modelo de regresión logística, debemos encontrar los parámetros w que minimizen la función de pérdida. En regresión logística, el modelo de decisión consiste en:\n",
    "\n",
    "$ h_w(X) = \\frac{1}{1 + e^{-Xw}}$\n",
    "\n",
    "Donde:\n",
    "- $X$ corresponde a los datos proporcionados\n",
    "- $h_w(X)$ es la predicción o hipótesis de nuestro modelo de regresión logística\n",
    "\n",
    "Recuerda que para realizar las operaciones de manera correcta $X$ debe estar en su notación aumentada, es decir, tiene un uno adicional por cada datapoint para que se pueda añadir el sesgo: $X \\in \\mathbb{R}^ {D+1 \\times N }$. Por lo tanto, los pesos tienen este parámetro adicional también $ w \\in R^{D+1} $\n",
    "\n",
    "En este problema $D = 2$ ya que estamos utilizando el perímetro y la textura del tumor para hacer la predición.\n",
    "\n",
    "TODO: En la siguiente celda, calcula las predicciones de regresión logística para una inicialización aleatoria de los pesos $w$"
   ]
  },
  {
   "cell_type": "code",
   "execution_count": null,
   "metadata": {},
   "outputs": [],
   "source": [
    "# Inicializando W\n",
    "w = np.random.uniform(low=-1, high=1, size=(3,))\n",
    "\n",
    "# TODO: Genera el dataset de entrenamiento aumentado\n",
    "# para el conjunto de datos de entrenamiento data_train\n",
    "# aug_data_train = ?\n",
    "# ====== Start of solution =====\n",
    "aug_data_train = ...\n",
    "# ====== End of solution =====\n",
    "\n",
    "# TODO: Calcula el valor de z/ la combinación lineal de los pesos y datos de entrenamiento\n",
    "# ====== Start of solution =====\n",
    "z = ...\n",
    "# ====== End of solution =====\n",
    "pred = logistic(z)\n",
    "\n",
    "print(aug_data_train.shape)\n",
    "print(pred.shape)\n",
    "\n",
    "# Graficamos los puntos para visualizar la predicción de nuestro modelo actualmente\n",
    "plt.scatter(aug_data_train[:, 1],aug_data_train[:, 2], c=pred, cmap=\"RdYlGn\")\n",
    "plt.colorbar()"
   ]
  },
  {
   "attachments": {},
   "cell_type": "markdown",
   "metadata": {},
   "source": [
    "## Función de pérdida\n",
    "Como vemos, al inicializarse los pesos, el modelo clasifica la mayoría de los puntos como benignos(0), sin embargo una vez optimizada la función, el modelo aprende el valor de los pesos óptimos dados los datos de entrenamiento. Para optimizar los pesos necesitamos aplicar descenso de gradiente usando la función de pérdida.\n",
    "\n",
    "En clase vimos que la función de pérdida que se utiliza para problemas de clasificación binaria, se conoce como binary cross entropy loss (BCE)\n",
    "\n",
    "$ L(h_w(x), y) = - y \\log(h_w(x)) - (1 - y)\\log(1 - h_w(x)) $\n",
    "\n",
    "La funcion de logaritmo $\\log{x}$ tiende al infinito cuando $x=0$. Para evitar esto, es común agregar un valor muy pequeño $\\epsilon$ al valor dentro del logaritmo.\n",
    "\n",
    "$ L(h_w(x), y) = - y \\log(h_w(x) + \\epsilon) - (1 - y)\\log(1 - h_w(x) + \\epsilon) $\n",
    "\n",
    "Termina el método para calcular la función de pérdida correspondiente."
   ]
  },
  {
   "cell_type": "code",
   "execution_count": null,
   "metadata": {},
   "outputs": [],
   "source": [
    "def bce_loss(X, w, y):\n",
    "    \"\"\"\n",
    "        X: datos en notación aumentada,\n",
    "        w: pesos del modelo\n",
    "        y: etiquetas de los datos\n",
    "    \"\"\"\n",
    "    eps = 1e-5 \n",
    "    # TODO: Calcula la función de pérdida\n",
    "    # Nota - suma la variable eps dentro del logaritmo \n",
    "    # para evitar errores por números muy cercanos a log de 0\n",
    "    # ====== Start of solution =====\n",
    "    loss = ...\n",
    "    # ====== End of solution ======\n",
    "    return loss.mean(axis=0)\n",
    "\n",
    "loss = bce_loss(aug_data_train, w, target_train)\n",
    "print(\"Costo: %.3f\" %loss)"
   ]
  },
  {
   "attachments": {},
   "cell_type": "markdown",
   "metadata": {},
   "source": [
    "## Optmización\n",
    "Podemos resolver el problema anterior utilizando descenso por gradiente. Para ello, requeriríamos sacar el gradiente de la función de pérdida con respecto a los pesos e iterar como en el ejercicio de regresión lineal. Es decir, necesitaríamos el gradiente del BCE loss, por lo tanto no podemos usar la función anteriormente calculada ya que utilizamos un loss diferente (MSE).\n",
    "\n",
    "En esta ocasión resolveremos el problema con la librería de scikit-learn. Completa donde se indique."
   ]
  },
  {
   "cell_type": "code",
   "execution_count": null,
   "metadata": {},
   "outputs": [],
   "source": [
    "from sklearn.linear_model import LogisticRegression\n",
    "model = LogisticRegression()\n",
    "# TODO: Haz fit al modelo de regresión logística\n",
    "# usando los datos de entrenamiento\n",
    "# (data_train, target_train)\n",
    "# ====== Start of solution =====\n",
    "\n",
    "# ====== End of solution =====\n",
    "\n",
    "# TODO: Calcula las preddiciones\n",
    "# ====== Start of solution =====\n",
    "prediction = ...\n",
    "# ====== End of solution =====\n",
    "\n",
    "# TODO: Calcula la exactitud de tu predicción\n",
    "# en el set de entrenamiento (data_train, target_train)\n",
    "# Es decir, el promedio de datos correctamente clasificados\n",
    "# ====== Start of solution =====\n",
    "train_accuracy = ...\n",
    "# ====== End of solution =====\n",
    "\n",
    "# TODO: Calcula la probabilidad de que un tumor sea benigno\n",
    "# en el set de evaluación (data_test, target_test)\n",
    "# La dimensionalidad de prob debe ser (test_dp, )\n",
    "# Tip: Investiga la función \"LogisticRegression.predict_proba\"\n",
    "# ====== Start of solution =====\n",
    "prob = ...\n",
    "# ====== End of solution =====\n",
    "\n",
    "# TODO: Calcula la exactitud de tu predicción\n",
    "# en el set de evaluación (data_test, target_test)\n",
    "# Tip: Investiga la función \"LogisticRegression.score\"\n",
    "# ====== Start of solution =====\n",
    "test_accuracy = ...\n",
    "\n",
    "# ====== End of solution =====\n",
    "print(test_accuracy)\n",
    "\n",
    "# Graficamos los puntos para visualizar la predicción de nuestro modelo\n",
    "plt.scatter(data_test[:, 0],data_test[:, 1], c=prob, cmap=\"RdYlGn\")\n",
    "plt.colorbar()"
   ]
  },
  {
   "attachments": {},
   "cell_type": "markdown",
   "metadata": {},
   "source": [
    "En la celda anterior, calculamos una predicción para cada punto de evaluación. Específicamente, el color de cada punto indica una probabilidad de que el tumor correspondiente sea benigno. \n",
    "<b>TODO: Contesta las siguientes preguntas</b> \n",
    "- ¿Por qué es útil predecir la probabilidad de que el tumor sea benigno en lugar de decir con certeza qué tipo de tumor es? \n",
    "- Intuitivamente ¿Qué necesitarías para tener una predicción más acertada?\n",
    "- Menciona otro problema real que se pueda resolver con un modelo de clasificación."
   ]
  }
 ],
 "metadata": {
  "kernelspec": {
   "display_name": "sistemas_inteligentes",
   "language": "python",
   "name": "python3"
  },
  "language_info": {
   "codemirror_mode": {
    "name": "ipython",
    "version": 3
   },
   "file_extension": ".py",
   "mimetype": "text/x-python",
   "name": "python",
   "nbconvert_exporter": "python",
   "pygments_lexer": "ipython3",
   "version": "3.8.16"
  },
  "orig_nbformat": 4,
  "vscode": {
   "interpreter": {
    "hash": "905c198daa8de890f849e3d178d587ed434ef9c4950065e35ced6cb98ea19df4"
   }
  }
 },
 "nbformat": 4,
 "nbformat_minor": 2
}

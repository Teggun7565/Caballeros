{
  "cells": [
    {
      "attachments": {},
      "cell_type": "markdown",
      "metadata": {
        "id": "CuQrgeE5Ml2E"
      },
      "source": [
        "# Introducción a Jupyter Notebook\n",
        "1. Primeros pasos (TODO)\n",
        "2. Entregas de ejercicios\n",
        "2. Orden de ejecución (TODO)\n",
        "3. Introducción a Python (TODO)\n",
        "4. Graficar \n",
        "\n",
        "Nota: Las secciones con la palabra TODO requieren acciones por parte del alumno\n",
        "\n",
        "# 1. Primeros pasos\n",
        "\n",
        "Un \"notebook\" está organizado en celdas. Existen dos tipos principales:\n",
        "1.  Celdas de código\n",
        "2.  Celdas de texto (por ejemplo esta)\n",
        "\n",
        "Cada celda se puede correr por separado y en cualquier orden que quieras. Para correr una celda necesitas activarla (por ejemplo haciendo click en ella). Las celdas de markdown pueden mostrar texto en *itálicas*(`*italica*`), **negritas**(`**italica**`) etc. Incluso permiten la notación matemática en  [$\\LaTeX$](https://www.overleaf.com/learn/latex/Mathematical_expressions):  \n",
        "\n",
        "$v = \\begin{bmatrix} 1  \\\\ 0 \n",
        "      \\end{bmatrix}$\n",
        "\n",
        "\n",
        "Practica transformar la siguiente fórmula de imagen a una fórmula de LaTeX en la siguiente celda.\n",
        "\n",
        "![images.png](data:image/png;base64,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)"
      ]
    },
    {
      "attachments": {},
      "cell_type": "markdown",
      "metadata": {
        "id": "F-Y-5-uLPjm5"
      },
      "source": [
        "#**TODO: Escribe la formula anterior usando LaTeX.**\n",
        "---\n",
        "$A = \\begin{bmatrix} a & b\\\\ c & d\n",
        "      \\end{bmatrix}\n",
        "      = U \\cdot \\sum \\cdot V^T$"
      ]
    },
    {
      "attachments": {},
      "cell_type": "markdown",
      "metadata": {
        "id": "OjOcKJZJalq4"
      },
      "source": [
        "# 2. Indicaciones para entrega de ejercicios\n",
        "Resuelve los ejercicios agregando código donde encuentres la indicación `#TODO`\n",
        "\n",
        "Cada función que escribas deberá correr sin error. Para la evaluación del ejercicio correré el cuarderno utilizando la opción `Restart and run all` para evaluarte. Obtendras los puntos completos si las celdas corren sin problemas y funciona correctamente.\n",
        "\n",
        "## Ejercicios y proyectos:\n",
        "Durante el curso existiran dos tipos de notebooks.\n",
        "Los notebooks tipo ejercicio tendrán la clave E, cuyo objetivo es comprobar los conocimientos teóricos cubiertos en clase.\n",
        "El siguiente tipo serán los proyectos (clave P), los cuales buscarán que sean capaces de tomar decisiones de diseño y serán incluidos en el portafolio final. A mas tardar una semana después de la entrega de estos proyectos tendrán que estar documentados en su portafolio. Se revisarán los avances a lo largo del curso.\n",
        "\n",
        "\n",
        "El procedimiento para entregar los proyectos y ejercicios será el siguiente:\n",
        "1. Por equipo, crearán un repositorio de github privado con el nombre \"SI23_[nombre_de_equipo]\" donde subirán los proyectos como **jupyter notebook** en carpetas indicadas como \"ejercicio 1\", \"proyecto 1\", \"proyecto 2\" ... \"ejercicio n\". Me agregarán como colaborador al proyecto para poder visualizar las actividades. \n",
        "2. Crearé un link de registro en forms para que den de alta su equipo, integrantes, y repositorio.\n",
        "3. Cada semana subiré un ejercicio nuevo a blackboard como un zip con el contenido requerido para completar la actividad. Copiarán el contenido a su repositorio de github *donde resolverán el ejercicio.*\n",
        "4. Revisaré la solución de github en la fecha indicada y recibirán su calificación en blackboard.\n",
        "\n",
        "Conforme avancemos en la clase, moveremos los proyectos fuera de google colab y tendran que usar archivos de python regulares. Para esto les recomiendo el uso de [anaconda](https://www.anaconda.com/products/distribution) para administrar sus ambientes. Por lo anterior es importante que se familiaricen con github, pero no se preocupen!! durante el curso veremos mas al respecto.\n",
        "\n",
        "## Notas generales:\n",
        "* Todas las entregas son hasta el final de dia indicado. Sin embargo, **se deducirán puntos por entregas tardias y no se aceptan entregas con más de dos dias de retraso.**\n",
        "* Cada semana subiré un ejercicio nuevo a blackboard como enlace al google colab correspondiente.\n",
        "* Los ejercicios tienen tiempo de entrega de 1 semana, los proyectos pueden ser de 1 o 2 semanas.\n",
        "* A pesar de que más de una persona puede acceder a colab al mismo tiempo, el manejo de versión es dificl de rastrear. Por lo anterior, les recomiendo realicen todo su trabajo en github. De esta manera, pueden manejar diferentes versiones de su trabajo y es menos probable que lo pierdan completamente."
      ]
    },
    {
      "cell_type": "markdown",
      "metadata": {
        "id": "eb1jhPvtPIfi"
      },
      "source": [
        "# 3. Ejecutrar celdas de código\n",
        "Para ejecutar una celda activa puedes:\n",
        "*   Hacer click en el boton de correr (flecha) en la izquierda de la celda\n",
        "*   Hacer `CTRL+Enter`\n",
        "\n",
        "El resultado de cada celda se muestra debajo de la misma. El número a la izquierda de la celda muestra en que orden se han corrido las celdas. Si la celda muestra `[*]`, significa que la celda está corriendo actualmente.\n",
        "\n",
        "Puedes ejecutar las celdas en *cualquier orden*. No necesariamente tiene que ser de arriba hacia abajo. Esto significa que el orden en el cual corres las celdas afecta tus variables. Considera que esto puede causar problemas durante el desarrollo.\n",
        "\n",
        "**Sin embargo, tus notebook deberán correr correctamente ejecutándose de principio a fin**\n",
        "\n",
        "Para esto puedes ir a `Runtime-> Restart and run all...`\n",
        "\n",
        "Para practicar el orden de las celdas, puedes utilizar las siguientes celdas como ejemplo."
      ]
    },
    {
      "cell_type": "code",
      "execution_count": 1,
      "metadata": {
        "id": "OjgcmRJPQ8s3"
      },
      "outputs": [],
      "source": [
        "a = \"mundo\"\n",
        "def hola(sujeto):\n",
        "  print(\"Hola %s\" %sujeto)"
      ]
    },
    {
      "cell_type": "code",
      "execution_count": 2,
      "metadata": {
        "colab": {
          "base_uri": "https://localhost:8080/"
        },
        "id": "v-7y3VhFQ0Z_",
        "outputId": "a88b9128-5d56-4e61-edfb-8adbadfa6252"
      },
      "outputs": [
        {
          "name": "stdout",
          "output_type": "stream",
          "text": [
            "Hola mundo\n"
          ]
        }
      ],
      "source": [
        "hola(a)\n",
        "a = \"gente\""
      ]
    },
    {
      "cell_type": "markdown",
      "metadata": {
        "id": "YH8lkJeu5CRW"
      },
      "source": [
        "`# TODO: `\n",
        "Intenta agregar una celda nueva de código y texto. Ademas intenta mover el orden y observa como afecta al cuaderno."
      ]
    },
    {
      "cell_type": "markdown",
      "metadata": {
        "id": "90EL3W0EZobh"
      },
      "source": [
        "# 4. Introducción a Python\n",
        "Estamos listos para comenzar el primer ejercicio del curso. En este ejercicio aprenderás el uso básico de el lenguaje de programación python. Además aprenderás a hacer uso de numpy para diversas operaciones con vectores, matrices y tensores.\n",
        "\n",
        "Todos los ejercicios del curso están en la forma de funciones de Python. El cuerpo de la función está dado y solo tienes que agregar el código funcional necesario. Aquí esta un ejemplo:"
      ]
    },
    {
      "cell_type": "code",
      "execution_count": 3,
      "metadata": {
        "id": "QxHe_TqgZ-CJ"
      },
      "outputs": [],
      "source": [
        "def funcion_ejemplo(a):\n",
        "  # TODO\n",
        "  # Regresa a por dos\n",
        "  pass"
      ]
    },
    {
      "cell_type": "markdown",
      "metadata": {
        "id": "iYnmNl7maEKQ"
      },
      "source": [
        "En tu ejercicio entonces regresarías la operación *a por dos*. Se vería de esta forma"
      ]
    },
    {
      "cell_type": "code",
      "execution_count": 4,
      "metadata": {
        "id": "DeMtbmdaaLxZ"
      },
      "outputs": [],
      "source": [
        "def funcion_ejemplo(a):\n",
        "  # TODO\n",
        "  return a*2"
      ]
    },
    {
      "cell_type": "markdown",
      "metadata": {
        "id": "HGGz7ASFaQRY"
      },
      "source": [
        "Después de escribir esta línea y correrla puedes usar la función en cualquier bloque de codigo futuro:"
      ]
    },
    {
      "cell_type": "code",
      "execution_count": 5,
      "metadata": {
        "colab": {
          "base_uri": "https://localhost:8080/"
        },
        "id": "8MpPr-1_aaYn",
        "outputId": "16ed1d37-58d2-431e-f2a1-4adef1731086"
      },
      "outputs": [
        {
          "name": "stdout",
          "output_type": "stream",
          "text": [
            "resultado de 2.5 por dos\n"
          ]
        },
        {
          "data": {
            "text/plain": [
              "5.0"
            ]
          },
          "execution_count": 5,
          "metadata": {},
          "output_type": "execute_result"
        }
      ],
      "source": [
        "print(\"resultado de 2.5 por dos\")\n",
        "funcion_ejemplo(2.5)"
      ]
    },
    {
      "cell_type": "markdown",
      "metadata": {
        "id": "lGDPLjZE3s_w"
      },
      "source": [
        "## Variables en python\n",
        "En Python, no es necesario declarar variables. En cambio al momento de inicializar una variable, el lenguaje determina el tipo de dato en función del valor que se le asigne"
      ]
    },
    {
      "cell_type": "code",
      "execution_count": 6,
      "metadata": {
        "id": "41eC8XXe3syI"
      },
      "outputs": [
        {
          "name": "stdout",
          "output_type": "stream",
          "text": [
            "<class 'int'>\n",
            "<class 'float'>\n",
            "<class 'float'>\n"
          ]
        }
      ],
      "source": [
        "x = 1   # Esto se inicializa como int\n",
        "print(type(x))\n",
        "\n",
        "y = 1.0 # Esto se inicializa como float\n",
        "print(type(y))\n",
        "\n",
        "z = x + y # Esta variable será de tipo float ya que es más general que entero.\n",
        "print(type(z))"
      ]
    },
    {
      "cell_type": "markdown",
      "metadata": {
        "id": "nSvrwx1738zY"
      },
      "source": [
        "### Variables string"
      ]
    },
    {
      "cell_type": "code",
      "execution_count": 7,
      "metadata": {
        "id": "5SKPKQMn3y3o"
      },
      "outputs": [
        {
          "name": "stdout",
          "output_type": "stream",
          "text": [
            "hola 2.0\n",
            "<class 'str'>\n",
            "Hola: x es 1, y es 1.000000\n",
            "Hola: x es 01, y es 1.00\n",
            "Hola: x es 1, y es 1.0\n",
            "Hola: x es 01, y es 1.00\n"
          ]
        }
      ],
      "source": [
        "s = \"hola\"  # Esta variable es string\n",
        "print(s + \" \" + str(z))  # Imprimine hola 2.0\n",
        "print(type(s))\n",
        "\n",
        "# Para concatenar valores a un string, se utiliza %d para valores enteros y %f para valores float\n",
        "print(\"Hola: x es %d, y es %f\" %(x,y)) \n",
        "\n",
        "# Para restringir definir la cantidad de caracteres se usa asi:\n",
        "print(\"Hola: x es %02d, y es %.2f\" %(x,y))\n",
        "\n",
        "# Equivalentemente se puede hacer de la siguiente manera\n",
        "print(f\"Hola: x es {x}, y es {y}\")\n",
        "print(f\"Hola: x es {x:02d}, y es {y:.2f}\")"
      ]
    },
    {
      "cell_type": "markdown",
      "metadata": {
        "id": "nh23twA-37ZQ"
      },
      "source": [
        "### Diccionarios y listas"
      ]
    },
    {
      "cell_type": "code",
      "execution_count": 8,
      "metadata": {
        "id": "l0L2IDkC32jg"
      },
      "outputs": [
        {
          "name": "stdout",
          "output_type": "stream",
          "text": [
            "{'llave': 1}\n",
            "{'llave': 1, 'nueva llave': 5}\n",
            "[1, 2, 3]\n",
            "[1, 2, 3, 4, 5]\n",
            "[1, 2, 3, 4, 5, 6]\n"
          ]
        }
      ],
      "source": [
        "# Diccionarios\n",
        "valor = 1\n",
        "d = {\"llave\": valor}\n",
        "print(d)\n",
        "d[\"nueva llave\"] = 5\n",
        "print(d)\n",
        "\n",
        "# En python, todos los arreglos son listas\n",
        "a = [1, 2, 3]\n",
        "print(a)\n",
        "a.extend([4, 5])\n",
        "print(a)\n",
        "a.append(6)\n",
        "print(a)"
      ]
    },
    {
      "cell_type": "markdown",
      "metadata": {
        "id": "ZfFohFoZ36CI"
      },
      "source": [
        "### For loops"
      ]
    },
    {
      "cell_type": "code",
      "execution_count": 9,
      "metadata": {
        "id": "bTDjes2635sS"
      },
      "outputs": [
        {
          "name": "stdout",
          "output_type": "stream",
          "text": [
            "ciclo 0\n",
            "ciclo 1\n",
            "ciclo 2\n",
            "ciclo 3\n",
            "ciclo 4\n",
            "[5, 6, 8, 1, 3, 4]\n",
            "[1, 3, 4, 5, 6, 8]\n"
          ]
        }
      ],
      "source": [
        "# For loops\n",
        "for i in range(5):\n",
        "  print(f\"ciclo {i}\")\n",
        "\n",
        "# ordenar listas\n",
        "lista = [5, 6, 8, 1, 3, 4]\n",
        "print(lista)\n",
        "lista.sort()\n",
        "print(lista)"
      ]
    },
    {
      "attachments": {},
      "cell_type": "markdown",
      "metadata": {
        "id": "wDKnoeFR3luY"
      },
      "source": [
        "## Tu turno!\n",
        "Para practicar el uso de listas y syntaxis de python, resuelve el siguiente problema: \n",
        "\n",
        "Dado una lista `nums`, por cada `nums[i]` encuentra cuantos números en la lista son menores que el. Es decir, por cada `nums[i]` tienes que contar cuantas `j's` válidas existen tal que `j != i` y `nums[j] < nums[i]`:\n",
        "\n",
        "Ejemplo:\n",
        "\n",
        "```\n",
        "Entrada: nums = [8, 1, 2, 2, 3]\n",
        "Salida: [4, 0, 1, 1, 3]\n",
        "Explicación:\n",
        "Para nums[0] = 8 existen 4 numeros menores en nums (1, 2, 2, 3)\n",
        "Para nums[1] = 1 no existe un número menor\n",
        "Para nums[2] = 2 existen 1 número menor (1)\n",
        "Para nums[3] = 2 existen 1 número menor (1)\n",
        "Para nums[4] = 3 existen 3 numeros menores en nums (1, 2, 2)\n",
        "```\n",
        "\n",
        "No es necesario que la solución sea óptima. El objetivo de esto es que practiquen el uso de python. Los casos de prueba están para que puedan verificar el funcionamiento de su método. "
      ]
    },
    {
      "cell_type": "code",
      "execution_count": 10,
      "metadata": {
        "id": "W1DQYDZy4OLd"
      },
      "outputs": [],
      "source": [
        "def numeroMenorQue(nums):\n",
        "  # TODO: Completa el método\n",
        "  output = []\n",
        "  return output"
      ]
    },
    {
      "cell_type": "markdown",
      "metadata": {
        "id": "ZFubUj8r4QXG"
      },
      "source": [
        "**Prueba tu solución**"
      ]
    },
    {
      "cell_type": "code",
      "execution_count": 11,
      "metadata": {
        "id": "pyjINCPj4PZE"
      },
      "outputs": [
        {
          "name": "stdout",
          "output_type": "stream",
          "text": [
            "[]\n",
            "[]\n",
            "tu solución es incorrecta\n"
          ]
        }
      ],
      "source": [
        "test_cases = [[6, 5, 4, 8], [7, 7, 7, 7]]\n",
        "solutions = [[2, 1, 0, 3], [0, 0, 0, 0]]\n",
        "correcto = True\n",
        "for caso, sol in zip(test_cases, solutions):\n",
        "  res = numeroMenorQue(caso)\n",
        "  print(res)\n",
        "  if((sol != res)):\n",
        "    correcto = False\n",
        "  \n",
        "s = \"correcta\" if correcto else \"incorrecta\"\n",
        "print(\"tu solución es \"+ s)"
      ]
    },
    {
      "cell_type": "markdown",
      "metadata": {
        "id": "g-ySoAQW3VQw"
      },
      "source": [
        "# 4. Graficar datos usando matplotlib\n",
        "\n",
        "Una ventaja muy grande de este cuaderno, es que puedes graficar directamente usando matplotlib.\n",
        "\n",
        "**NOTA: Para activar esta función neesitas agregar el siguiente comando *mágico***\n",
        "\n",
        "*-> Ejecuta las siguientes celdas*"
      ]
    },
    {
      "cell_type": "code",
      "execution_count": 12,
      "metadata": {
        "id": "s0fja5Kw3TTg"
      },
      "outputs": [],
      "source": [
        "%matplotlib inline"
      ]
    },
    {
      "cell_type": "markdown",
      "metadata": {
        "id": "74flHjRA3X_4"
      },
      "source": [
        "Ejemplo:"
      ]
    },
    {
      "cell_type": "code",
      "execution_count": 13,
      "metadata": {
        "id": "Rpul7RwO3ahJ"
      },
      "outputs": [
        {
          "data": {
            "text/plain": [
              "<matplotlib.collections.PathCollection at 0x1575295d4f0>"
            ]
          },
          "execution_count": 13,
          "metadata": {},
          "output_type": "execute_result"
        },
        {
          "data": {
            "image/png": "[encoded data removed]",
            "text/plain": [
              "<Figure size 640x480 with 1 Axes>"
            ]
          },
          "metadata": {},
          "output_type": "display_data"
        }
      ],
      "source": [
        "import matplotlib.pyplot as plt\n",
        "import numpy as np\n",
        "\n",
        "x = np.random.randn(100, 1)\n",
        "y = np.random.randn(100, 1)\n",
        "\n",
        "c = np.random.uniform(size = (100, 1))\n",
        "plt.scatter(x, y)"
      ]
    }
  ],
  "metadata": {
    "colab": {
      "provenance": []
    },
    "kernelspec": {
      "display_name": "sistemas_inteligentes",
      "language": "python",
      "name": "python3"
    },
    "language_info": {
      "codemirror_mode": {
        "name": "ipython",
        "version": 3
      },
      "file_extension": ".py",
      "mimetype": "text/x-python",
      "name": "python",
      "nbconvert_exporter": "python",
      "pygments_lexer": "ipython3",
      "version": "3.8.16"
    },
    "vscode": {
      "interpreter": {
        "hash": "8a885f14ca74713f98cf008bcd039c6b054c58bc98331d7664245d2d443c9f2b"
      }
    }
  },
  "nbformat": 4,
  "nbformat_minor": 0
}
